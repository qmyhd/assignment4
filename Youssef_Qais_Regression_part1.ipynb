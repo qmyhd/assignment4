{
  "cells": [
    {
      "cell_type": "markdown",
      "metadata": {
        "id": "view-in-github",
        "colab_type": "text"
      },
      "source": [
        "<a href=\"https://colab.research.google.com/github/qmyhd/assignment4/blob/main/Youssef_Qais_Regression_part1.ipynb\" target=\"_parent\"><img src=\"https://colab.research.google.com/assets/colab-badge.svg\" alt=\"Open In Colab\"/></a>"
      ]
    },
    {
      "cell_type": "markdown",
      "id": "6ee4329c-8b89-4fe8-aa99-0fa8b36ffb8b",
      "metadata": {
        "id": "6ee4329c-8b89-4fe8-aa99-0fa8b36ffb8b"
      },
      "source": [
        "## Regression Part 1"
      ]
    },
    {
      "cell_type": "code",
      "execution_count": 1,
      "id": "7edb760c-8338-4380-acc8-26f5882c24ff",
      "metadata": {
        "tags": [],
        "id": "7edb760c-8338-4380-acc8-26f5882c24ff"
      },
      "outputs": [],
      "source": [
        "import numpy as np\n",
        "import matplotlib.pyplot as plt"
      ]
    },
    {
      "cell_type": "code",
      "execution_count": 2,
      "id": "fc74243c-1b45-48a0-a9a9-f0a498caf8e2",
      "metadata": {
        "tags": [],
        "id": "fc74243c-1b45-48a0-a9a9-f0a498caf8e2"
      },
      "outputs": [],
      "source": [
        "# observations / data\n",
        "x = np.array([0, 1, 2, 3, 4, 5, 6, 7, 8, 9])\n",
        "y = np.array([1, 3, 2, 5, 7, 8, 8, 9, 10, 12])"
      ]
    },
    {
      "cell_type": "code",
      "execution_count": 3,
      "id": "b9984c07-c02c-458b-8203-b50ce90c1c7c",
      "metadata": {
        "tags": [],
        "colab": {
          "base_uri": "https://localhost:8080/",
          "height": 447
        },
        "id": "b9984c07-c02c-458b-8203-b50ce90c1c7c",
        "outputId": "4d22bb01-1f0d-4c15-f872-a7e706907c0b"
      },
      "outputs": [
        {
          "output_type": "execute_result",
          "data": {
            "text/plain": [
              "<matplotlib.collections.PathCollection at 0x7ade1c7169e0>"
            ]
          },
          "metadata": {},
          "execution_count": 3
        },
        {
          "output_type": "display_data",
          "data": {
            "text/plain": [
              "<Figure size 640x480 with 1 Axes>"
            ],
            "image/png": "[encoded data removed]"
          },
          "metadata": {}
        }
      ],
      "source": [
        "# plotting the actual points as scatter plot\n",
        "plt.scatter(x, y, color = \"m\",\n",
        "               marker = \"o\", s = 30)"
      ]
    },
    {
      "cell_type": "markdown",
      "source": [
        "### Find theta[0] and theta[1]\n",
        "\n",
        "The model for linear regression is\n",
        "$$\n",
        "y = \\theta_0 + \\theta_1 x + ɛ \\qquad \\varepsilon \\sim \\mathcal{N}(0,\\sigma^2)\n",
        "$$"
      ],
      "metadata": {
        "id": "I-nbBC5doz37"
      },
      "id": "I-nbBC5doz37"
    },
    {
      "cell_type": "code",
      "execution_count": 4,
      "id": "7135d9c1-0e52-4246-aaa5-9b3444d7327d",
      "metadata": {
        "tags": [],
        "id": "7135d9c1-0e52-4246-aaa5-9b3444d7327d",
        "colab": {
          "base_uri": "https://localhost:8080/"
        },
        "outputId": "ca13e82f-7284-4fe4-9664-c967ecc1b10c"
      },
      "outputs": [
        {
          "output_type": "stream",
          "name": "stdout",
          "text": [
            "Best theta_0: 1.1779448621553872\n",
            "Best theta_1: 1.1779448621553872\n",
            "Minimum SSE: 5.63439300004397\n"
          ]
        }
      ],
      "source": [
        "#function to compute the sum of squared errors (SSE) for given theta_0 and theta_1\n",
        "def compute_sse(x, y, theta_0, theta_1):\n",
        "    predictions = theta_0 + theta_1 * x  # Calculate the predicted y values based on current theta_0 and theta_1\n",
        "    return np.sum((y - predictions) ** 2)  # Return the SSE between actual y values and predictions\n",
        "\n",
        "# Initialize the best theta values and minimum SSE\n",
        "best_theta_0 = 0\n",
        "best_theta_1 = 0\n",
        "min_sse = np.inf  # Initialize the minimum SSE as infinity to ensure any first calculated SSE is smaller\n",
        "\n",
        "# Find best values by scanning all the grid values\n",
        "theta_0_range = np.linspace(-10, 10, 400) # Generate 400 evenly spaced values between -10 and 10\n",
        "theta_1_range = np.linspace(-10, 10, 400)\n",
        "\n",
        "# Scan all grid values, Loop through all combinations of theta_0 and theta_1 values\n",
        "\n",
        "for theta_0 in theta_0_range:\n",
        "    for theta_1 in theta_1_range:\n",
        "        current_sse = compute_sse(x, y, theta_0, theta_1) # Compute the SSE for the current combination of theta_0 and theta_1\n",
        "        if current_sse < min_sse: # If the current SSE is smaller than the minimum found so far\n",
        "            min_sse = current_sse # Update the minimum SSE\n",
        "            best_theta_0 = theta_0\n",
        "            best_theta_1 = theta_1\n",
        "\n",
        "# Print the \"best\" values for theta[0] and theta[1]\n",
        "print(\"Best theta_0:\", best_theta_0)\n",
        "print(\"Best theta_1:\", best_theta_1)\n",
        "print(\"Minimum SSE:\", min_sse) # Print the minimum SSE achieved with the best theta values"
      ]
    },
    {
      "cell_type": "code",
      "source": [
        "# Function to compute the sum of squared errors (SSE) for given theta_0 and theta_1\n",
        "def compute_sse(x, y, theta_0, theta_1):\n",
        "    predictions = theta_0 + theta_1 * x\n",
        "    return np.sum((y - predictions) ** 2)\n",
        "\n",
        "# Initialize the best theta values and minimum SSE\n",
        "best_theta_0 = 0\n",
        "best_theta_1 = 0\n",
        "min_sse = np.inf\n",
        "\n",
        "# Number of random samples to generate for theta_0 and theta_1\n",
        "n_samples = 10000"
      ],
      "metadata": {
        "id": "quRHQBGqzQXO"
      },
      "id": "quRHQBGqzQXO",
      "execution_count": 5,
      "outputs": []
    },
    {
      "cell_type": "code",
      "source": [
        "# Use the Monte Carlo method to generate random pairs of (theta_0, theta_1)\n",
        "for _ in range(n_samples):\n",
        "    theta_0 = np.random.uniform(-10, 10)  # Randomly generate a theta_0 value\n",
        "    theta_1 = np.random.uniform(-10, 10)  # Randomly generate a theta_1 value\n",
        "    current_sse = compute_sse(x, y, theta_0, theta_1)  # Compute the SSE for this pair of theta_0 and theta_1\n",
        "    if current_sse < min_sse:  # If this SSE is lower than the best found so far\n",
        "        min_sse = current_sse  # Update the minimum SSE\n",
        "        best_theta_0 = theta_0  # Update the best theta_0\n",
        "        best_theta_1 = theta_1  # Update the best theta_1\n",
        "\n",
        "\n",
        "# Print the \"best\" values for theta[0] and theta[1]\n",
        "print(\"Best theta_0:\", best_theta_0)  # Print the best theta_0 found\n",
        "print(\"Best theta_1:\", best_theta_1)  # Print the best theta_1 found\n",
        "print(\"Minimum SSE:\", min_sse)  # Print the minimum SSE achieved with the best theta values"
      ],
      "metadata": {
        "id": "s5OrIDWfq2mY",
        "colab": {
          "base_uri": "https://localhost:8080/"
        },
        "outputId": "86d9905b-1d06-4fe7-ba51-69980b08e90a"
      },
      "id": "s5OrIDWfq2mY",
      "execution_count": 6,
      "outputs": [
        {
          "output_type": "stream",
          "name": "stdout",
          "text": [
            "Best theta_0: 1.240861201204888\n",
            "Best theta_1: 1.1501296953970463\n",
            "Minimum SSE: 5.7256445411993\n"
          ]
        }
      ]
    },
    {
      "cell_type": "markdown",
      "source": [
        "Plot the lines and comment on any difference, if any\n",
        "\n",
        "\n"
      ],
      "metadata": {
        "id": "oFXWc9Ysq1tG"
      },
      "id": "oFXWc9Ysq1tG"
    },
    {
      "cell_type": "code",
      "execution_count": 46,
      "id": "9365155e-4ad9-4dc2-b739-3a10510d3e0a",
      "metadata": {
        "colab": {
          "base_uri": "https://localhost:8080/",
          "height": 449
        },
        "id": "9365155e-4ad9-4dc2-b739-3a10510d3e0a",
        "outputId": "c1b4b9c4-675d-461c-9208-ff82e97aa5b6"
      },
      "outputs": [
        {
          "output_type": "display_data",
          "data": {
            "text/plain": [
              "<Figure size 640x480 with 1 Axes>"
            ],
            "image/png": "[encoded data removed]"
          },
          "metadata": {}
        }
      ],
      "source": [
        "plt.scatter(x, y, color = \"m\",\n",
        "               marker = \"o\", s = 30)\n",
        "# Best parameters from grid search\n",
        "best_theta_0_gs = 1.1779448621553872\n",
        "best_theta_1_gs = 1.1779448621553872\n",
        "# Best parameters from Monte Carlo method\n",
        "best_theta_0_mc = 1.1501830265055624\n",
        "best_theta_1_mc = 1.1859397042875095\n",
        "\n",
        "    # predicted response line\n",
        "y_pred_gs = best_theta_0_gs + best_theta_1_gs * x  # Predicted y values from grid search\n",
        "y_pred_mc = best_theta_0_mc + best_theta_1_mc * x  # Predicted y values from Monte Carlo\n",
        "    # plotting the regression line\n",
        "plt.plot(x, y_pred_gs, color=\"g\", label=\"Grid Search Line\")\n",
        "plt.plot(x, y_pred_mc, color=\"b\", label=\"Monte Carlo Line\")\n",
        "    # putting labels\n",
        "plt.xlabel('x')\n",
        "plt.ylabel('y')\n",
        "plt.legend()\n",
        "\n",
        "    # function to show plot\n",
        "plt.show()"
      ]
    },
    {
      "cell_type": "markdown",
      "source": [
        "**Answer**:The regression lines from Grid Search and Monte Carlo methods align well with the data points, showing both methods effectively estimated the linear model's parameters. The green (Grid Search) and blue (Monte Carlo) lines also closely match, indicating similar outcomes for theta 0 and theta 1."
      ],
      "metadata": {
        "id": "1lPQ7QqBO6Nh"
      },
      "id": "1lPQ7QqBO6Nh"
    }
  ],
  "metadata": {
    "kernelspec": {
      "display_name": "Python 3 (ipykernel)",
      "language": "python",
      "name": "python3"
    },
    "language_info": {
      "codemirror_mode": {
        "name": "ipython",
        "version": 3
      },
      "file_extension": ".py",
      "mimetype": "text/x-python",
      "name": "python",
      "nbconvert_exporter": "python",
      "pygments_lexer": "ipython3",
      "version": "3.9.16"
    },
    "colab": {
      "provenance": [],
      "include_colab_link": true
    }
  },
  "nbformat": 4,
  "nbformat_minor": 5
}